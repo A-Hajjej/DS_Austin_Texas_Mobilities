{
 "cells": [
  {
   "cell_type": "code",
   "execution_count": null,
   "metadata": {},
   "outputs": [],
   "source": [
    "pip install findspark"
   ]
  },
  {
   "cell_type": "code",
   "execution_count": null,
   "metadata": {},
   "outputs": [],
   "source": [
    "pip install pyspark"
   ]
  },
  {
   "cell_type": "code",
   "execution_count": 2,
   "metadata": {},
   "outputs": [
    {
     "name": "stdout",
     "output_type": "stream",
     "text": [
      "+-----+\n",
      "|hello|\n",
      "+-----+\n",
      "|spark|\n",
      "+-----+\n",
      "\n"
     ]
    }
   ],
   "source": [
    "import pyspark\n",
    "from pyspark.sql import SparkSession\n",
    "#SparkSession.builder\n",
    " #    .master(\"local\")\n",
    "  #   .appName(\"Word Count\")\n",
    "   #  .config(\"spark.some.config.option\", \"some-value\")\n",
    "   #  .getOrCreate()\n",
    "\n",
    "spark = SparkSession.builder.getOrCreate()\n",
    "df = spark.sql(\"select 'spark' as hello \")\n",
    "df.show()"
   ]
  },
  {
   "cell_type": "code",
   "execution_count": 3,
   "metadata": {},
   "outputs": [
    {
     "data": {
      "text/html": [
       "\n",
       "            <div>\n",
       "                <p><b>SparkSession - in-memory</b></p>\n",
       "                \n",
       "        <div>\n",
       "            <p><b>SparkContext</b></p>\n",
       "\n",
       "            <p><a href=\"http://WLEHQPAR1-00292.asnet.accorservices.net:4040\">Spark UI</a></p>\n",
       "\n",
       "            <dl>\n",
       "              <dt>Version</dt>\n",
       "                <dd><code>v2.4.4</code></dd>\n",
       "              <dt>Master</dt>\n",
       "                <dd><code>local[*]</code></dd>\n",
       "              <dt>AppName</dt>\n",
       "                <dd><code>pyspark-shell</code></dd>\n",
       "            </dl>\n",
       "        </div>\n",
       "        \n",
       "            </div>\n",
       "        "
      ],
      "text/plain": [
       "<pyspark.sql.session.SparkSession at 0x17f50141be0>"
      ]
     },
     "execution_count": 3,
     "metadata": {},
     "output_type": "execute_result"
    }
   ],
   "source": [
    "spark"
   ]
  },
  {
   "cell_type": "code",
   "execution_count": 35,
   "metadata": {},
   "outputs": [],
   "source": [
    "from pyspark import SparkContext\n",
    "from pyspark.sql import SQLContext\n",
    "import pandas as pd\n",
    "\n",
    "sql_sc = SQLContext(spark)\n",
    "repository='C:/Users/ahajjej/Desktop/Adam_Work_Spark/trips_spark/Shared_Micromobility_Vehicle_Trips.csv'\n",
    "Austin_Trips_Df = spark.read.csv(repository,header='True',inferSchema='true') \n"
   ]
  },
  {
   "cell_type": "code",
   "execution_count": 42,
   "metadata": {},
   "outputs": [
    {
     "data": {
      "text/plain": [
       "2115445"
      ]
     },
     "execution_count": 42,
     "metadata": {},
     "output_type": "execute_result"
    }
   ],
   "source": [
    "Austin_Trips_Df.count()"
   ]
  },
  {
   "cell_type": "code",
   "execution_count": 36,
   "metadata": {
    "scrolled": true
   },
   "outputs": [
    {
     "name": "stdout",
     "output_type": "stream",
     "text": [
      "root\n",
      " |-- ID: string (nullable = true)\n",
      " |-- Device ID: string (nullable = true)\n",
      " |-- Vehicle Type: string (nullable = true)\n",
      " |-- Trip Duration: integer (nullable = true)\n",
      " |-- Trip Distance: integer (nullable = true)\n",
      " |-- Start Time: string (nullable = true)\n",
      " |-- End Time: string (nullable = true)\n",
      " |-- Modified Date: string (nullable = true)\n",
      " |-- Month: integer (nullable = true)\n",
      " |-- Hour: integer (nullable = true)\n",
      " |-- Day of Week: integer (nullable = true)\n",
      " |-- Council District (Start): integer (nullable = true)\n",
      " |-- Council District (End): integer (nullable = true)\n",
      " |-- Year: integer (nullable = true)\n",
      " |-- Census Tract Start: string (nullable = true)\n",
      " |-- Census Tract End: string (nullable = true)\n",
      "\n"
     ]
    }
   ],
   "source": [
    "Austin_Trips_Df.printSchema()"
   ]
  },
  {
   "cell_type": "code",
   "execution_count": 38,
   "metadata": {},
   "outputs": [
    {
     "data": {
      "text/plain": [
       "[Row(ID='900f1254-8a1e-495e-a55f-1153ebdb3e0e', Device ID='4f7f79d1-88d8-4829-95be-5a548134425b', Vehicle Type='bicycle', Trip Duration=188, Trip Distance=836, Start Time=datetime.datetime(2019, 7, 1, 0, 0), End Time=datetime.datetime(2019, 7, 1, 0, 0), Modified Date='07/03/2019 05:02:16 AM', Month=7, Hour=0, Day of Week=1, Council District (Start)=3, Council District (End)=3, Year=2019, Census Tract Start='48453002111', Census Tract End='48453002111')]"
      ]
     },
     "execution_count": 38,
     "metadata": {},
     "output_type": "execute_result"
    }
   ],
   "source": [
    "Austin_Trips_Df.head(1)"
   ]
  },
  {
   "cell_type": "code",
   "execution_count": 51,
   "metadata": {},
   "outputs": [],
   "source": [
    " Austin_Trips_Df = Austin_Trips_Df.dropDuplicates()"
   ]
  },
  {
   "cell_type": "code",
   "execution_count": 65,
   "metadata": {},
   "outputs": [
    {
     "data": {
      "text/plain": [
       "2115398"
      ]
     },
     "execution_count": 65,
     "metadata": {},
     "output_type": "execute_result"
    }
   ],
   "source": [
    "Austin_Trips_Df.dropna().count()"
   ]
  },
  {
   "cell_type": "code",
   "execution_count": 37,
   "metadata": {},
   "outputs": [],
   "source": [
    "#from pyspark.sql.functions import to_timestamp\n",
    "#Austin_Trips_Df = Austin_Trips_Df.withColumn('Start_Time',to_timestamp(Austin_Trips_Df['Start Time'], \"yyyy_MM_dd HH_mm_ss\"))\n",
    "from pyspark.sql.functions import unix_timestamp\n",
    "pattern ='MM/dd/yyyy hh:mm:ss aa'\n",
    "Austin_Trips_Df=Austin_Trips_Df.withColumn('Start Time',unix_timestamp(Austin_Trips_Df['Start Time'],pattern).cast(\"timestamp\"))\\\n",
    ".withColumn('End Time',unix_timestamp(Austin_Trips_Df['End Time'],pattern).cast(\"timestamp\"))"
   ]
  },
  {
   "cell_type": "code",
   "execution_count": 39,
   "metadata": {},
   "outputs": [],
   "source": [
    "Austin_Trips_Df=Austin_Trips_Df.withColumn('Trip Distance',(Austin_Trips_Df['Trip Distance'])/1000).withColumnRenamed('Trip Distance', 'Trip_Distance(km)').withColumn('Trip Duration',(Austin_Trips_Df['Trip Duration'])/3600).withColumnRenamed('Trip Duration', 'Trip_Duration(H)')"
   ]
  },
  {
   "cell_type": "code",
   "execution_count": 40,
   "metadata": {},
   "outputs": [],
   "source": [
    "Austin_Trips_Df=Austin_Trips_Df.drop(Austin_Trips_Df['Modified Date']).drop(Austin_Trips_Df['Year'])"
   ]
  },
  {
   "cell_type": "code",
   "execution_count": 41,
   "metadata": {},
   "outputs": [
    {
     "name": "stdout",
     "output_type": "stream",
     "text": [
      "root\n",
      " |-- ID: string (nullable = true)\n",
      " |-- Device ID: string (nullable = true)\n",
      " |-- Vehicle Type: string (nullable = true)\n",
      " |-- Trip_Duration(H): double (nullable = true)\n",
      " |-- Trip_Distance(km): double (nullable = true)\n",
      " |-- Start Time: timestamp (nullable = true)\n",
      " |-- End Time: timestamp (nullable = true)\n",
      " |-- Month: integer (nullable = true)\n",
      " |-- Hour: integer (nullable = true)\n",
      " |-- Day of Week: integer (nullable = true)\n",
      " |-- Council District (Start): integer (nullable = true)\n",
      " |-- Council District (End): integer (nullable = true)\n",
      " |-- Census Tract Start: string (nullable = true)\n",
      " |-- Census Tract End: string (nullable = true)\n",
      "\n"
     ]
    }
   ],
   "source": [
    "Austin_Trips_Df.printSchema()"
   ]
  },
  {
   "cell_type": "code",
   "execution_count": 47,
   "metadata": {
    "scrolled": false
   },
   "outputs": [
    {
     "name": "stdout",
     "output_type": "stream",
     "text": [
      "+-------+-------------------+-----------------+\n",
      "|summary|   Trip_Duration(H)|Trip_Distance(km)|\n",
      "+-------+-------------------+-----------------+\n",
      "|  count|            2115445|          2115445|\n",
      "|   mean|0.16955681625694233|45.60924962360066|\n",
      "| stddev| 0.2429257070840963| 1936.53659027175|\n",
      "|    min|             -0.315|              0.0|\n",
      "|    max|            23.5475|      1113117.831|\n",
      "+-------+-------------------+-----------------+\n",
      "\n"
     ]
    }
   ],
   "source": [
    "Austin_Trips_Df.select(\"Trip_Duration(H)\",\"Trip_Distance(km)\").describe().show(truncate= True)"
   ]
  },
  {
   "cell_type": "code",
   "execution_count": 49,
   "metadata": {},
   "outputs": [],
   "source": [
    "Austin_Trips_Df=Austin_Trips_Df.filter(Austin_Trips_Df['Trip_Duration(H)']>0)"
   ]
  },
  {
   "cell_type": "code",
   "execution_count": 50,
   "metadata": {},
   "outputs": [
    {
     "data": {
      "text/plain": [
       "2115406"
      ]
     },
     "execution_count": 50,
     "metadata": {},
     "output_type": "execute_result"
    }
   ],
   "source": [
    "Austin_Trips_Df.count()"
   ]
  },
  {
   "cell_type": "code",
   "execution_count": 62,
   "metadata": {},
   "outputs": [
    {
     "name": "stdout",
     "output_type": "stream",
     "text": [
      "+------------------+------+---+------+------+------+\n",
      "|Vehicle Type_Month|    10| 11|     7|     8|     9|\n",
      "+------------------+------+---+------+------+------+\n",
      "|           scooter|503906| 88|471763|471527|557695|\n",
      "|           bicycle| 26521|  0| 31633| 25036| 27237|\n",
      "+------------------+------+---+------+------+------+\n",
      "\n"
     ]
    }
   ],
   "source": [
    "Austin_Trips_Df.crosstab('Vehicle Type', 'Month').show()"
   ]
  },
  {
   "cell_type": "code",
   "execution_count": 63,
   "metadata": {
    "scrolled": false
   },
   "outputs": [
    {
     "name": "stdout",
     "output_type": "stream",
     "text": [
      "+-----------------+------+---+-----+------+------+\n",
      "|Day of Week_Month|    10| 11|    7|     8|     9|\n",
      "+-----------------+------+---+-----+------+------+\n",
      "|                0| 78276|  0|67526| 60053| 92386|\n",
      "|                5| 82200| 88|83536| 94825| 91179|\n",
      "|                1| 58880|  0|57008| 45884| 76615|\n",
      "|                6|101599|  0|96908|118696|126083|\n",
      "|                2| 67055|  0|62289| 49164| 61974|\n",
      "|                3| 67917|  0|65831| 55822| 65591|\n",
      "|                4| 74500|  0|70298| 72119| 71104|\n",
      "+-----------------+------+---+-----+------+------+\n",
      "\n"
     ]
    }
   ],
   "source": [
    "Austin_Trips_Df.crosstab('Day of Week', 'Month').show()"
   ]
  },
  {
   "cell_type": "code",
   "execution_count": 70,
   "metadata": {},
   "outputs": [],
   "source": [
    "Austin_Trips_Df=Austin_Trips_Df.withColumn('Speed',Austin_Trips_Df['Trip_Distance(km)']/Austin_Trips_Df['Trip_Duration(H)'])"
   ]
  },
  {
   "cell_type": "code",
   "execution_count": 71,
   "metadata": {},
   "outputs": [
    {
     "name": "stdout",
     "output_type": "stream",
     "text": [
      "+-------+-----------------+\n",
      "|summary|            Speed|\n",
      "+-------+-----------------+\n",
      "|  count|          2115406|\n",
      "|   mean|431.7605969129722|\n",
      "| stddev|17208.99638077851|\n",
      "|    min|              0.0|\n",
      "|    max|5242221.507692307|\n",
      "+-------+-----------------+\n",
      "\n"
     ]
    }
   ],
   "source": [
    "Austin_Trips_Df.describe(['Speed']).show()"
   ]
  },
  {
   "cell_type": "code",
   "execution_count": 110,
   "metadata": {},
   "outputs": [
    {
     "ename": "IndentationError",
     "evalue": "unindent does not match any outer indentation level (<tokenize>, line 17)",
     "output_type": "error",
     "traceback": [
      "\u001b[1;36m  File \u001b[1;32m\"<tokenize>\"\u001b[1;36m, line \u001b[1;32m17\u001b[0m\n\u001b[1;33m    for c in bounds:\u001b[0m\n\u001b[1;37m    ^\u001b[0m\n\u001b[1;31mIndentationError\u001b[0m\u001b[1;31m:\u001b[0m unindent does not match any outer indentation level\n"
     ]
    }
   ],
   "source": [
    "SpeedDf=Austin_Trips_Df.select(\"Trip_Distance(km)\",\"Trip_Duration(H)\",\"Speed\")\n",
    "#.groupBy(\"Speed\").count().orderBy(\"Speed\")\n",
    "#SpeedDf.describe().show()\n",
    "#ScatterChart(plot,fields=Some((\"Speed\",\"Count\")))\n",
    "#import matplotlib.pyplot as plt\n",
    "#plot1=SpeedDf.toPandas()\n",
    "\n",
    "\n",
    "def calculate_bounds(SpeedDf):\n",
    "                bounds = {\n",
    "                        c: dict(\n",
    "                            zip([\"q1\", \"q3\"], SpeedDf.approxQuantile(c, [0.25, 0.75], 0))\n",
    "                        )\n",
    "                        for c,d in zip(SpeedDf.columns, SpeedDf.dtypes) if d[1] == \"int\"\n",
    "                    }\n",
    "        \n",
    "            for c in bounds:\n",
    "                            iqr = bounds[c]['q3'] - bounds[c]['q1']\n",
    "                            bounds[c]['min'] = bounds[c]['q1'] - (iqr * 1.5)\n",
    "                            bounds[c]['max'] = bounds[c]['q3'] + (iqr * 1.5)\n",
    "\n",
    "                 return bounds"
   ]
  },
  {
   "cell_type": "code",
   "execution_count": 112,
   "metadata": {},
   "outputs": [],
   "source": [
    "SpeedDf=Austin_Trips_Df.select(\"Trip_Distance(km)\",\"Trip_Duration(H)\",\"Speed\")\n",
    "bounds = {\n",
    "    c: dict(\n",
    "        zip([\"q1\", \"q3\"], SpeedDf.approxQuantile(c, [0.25, 0.75], 0))\n",
    "    )\n",
    "    for c in SpeedDf.columns\n",
    "}"
   ]
  },
  {
   "cell_type": "code",
   "execution_count": 113,
   "metadata": {},
   "outputs": [
    {
     "name": "stdout",
     "output_type": "stream",
     "text": [
      "{'Trip_Distance(km)': {'q1': 0.598, 'q3': 2.037, 'lower': -1.5605000000000002, 'upper': 4.1955}, 'Trip_Duration(H)': {'q1': 0.06555555555555556, 'q3': 0.1922222222222222, 'lower': -0.12444444444444441, 'upper': 0.3822222222222222}, 'Speed': {'q1': 6.252631578947369, 'q3': 14.195876288659795, 'lower': -5.66223548562127, 'upper': 26.110743353228436}}\n"
     ]
    }
   ],
   "source": [
    "for c in bounds:\n",
    "    iqr = bounds[c]['q3'] - bounds[c]['q1']\n",
    "    bounds[c]['lower'] = bounds[c]['q1'] - (iqr * 1.5)\n",
    "    bounds[c]['upper'] = bounds[c]['q3'] + (iqr * 1.5)\n",
    "print(bounds)"
   ]
  },
  {
   "cell_type": "code",
   "execution_count": 116,
   "metadata": {},
   "outputs": [
    {
     "name": "stdout",
     "output_type": "stream",
     "text": [
      "+-----------------+--------------------+------------------+---------------------+--------------------+---------+\n",
      "|Trip_Distance(km)|    Trip_Duration(H)|             Speed|Trip_Distance(km)_out|Trip_Duration(H)_out|Speed_out|\n",
      "+-----------------+--------------------+------------------+---------------------+--------------------+---------+\n",
      "|            0.768| 0.14083333333333334|5.4532544378698224|                    0|                   0|        0|\n",
      "|            5.536|  0.3638888888888889|15.213435114503817|                    1|                   0|        0|\n",
      "|              1.3| 0.12472222222222222|10.423162583518932|                    0|                   0|        0|\n",
      "|            3.619| 0.22583333333333333|16.025092250922512|                    0|                   0|        0|\n",
      "|            1.335| 0.15777777777777777| 8.461267605633804|                    0|                   0|        0|\n",
      "|            1.154| 0.14944444444444444| 7.721933085501859|                    0|                   0|        0|\n",
      "|            0.931| 0.06416666666666666| 14.50909090909091|                    0|                   0|        0|\n",
      "|              0.0|0.011666666666666667|               0.0|                    0|                   0|        0|\n",
      "|            1.971| 0.14777777777777779|13.337593984962405|                    0|                   0|        0|\n",
      "|            3.846| 0.21222222222222223|18.122513089005235|                    0|                   0|        0|\n",
      "|            1.756|               0.115|15.269565217391303|                    0|                   0|        0|\n",
      "|            0.557| 0.08638888888888889| 6.447588424437299|                    0|                   0|        0|\n",
      "|            1.046| 0.12805555555555556| 8.168329718004339|                    0|                   0|        0|\n",
      "|            0.169| 0.04722222222222222| 3.578823529411765|                    0|                   0|        0|\n",
      "|            2.831| 0.18916666666666668|14.965638766519822|                    0|                   0|        0|\n",
      "|            3.363| 0.20194444444444445| 16.65309491059147|                    0|                   0|        0|\n",
      "|            1.013| 0.08416666666666667|12.035643564356434|                    0|                   0|        0|\n",
      "|            0.836| 0.12027777777777778| 6.950577367205542|                    0|                   0|        0|\n",
      "|            0.024|0.036944444444444446|0.6496240601503759|                    0|                   0|        0|\n",
      "|             5.48|              0.4825|11.357512953367877|                    1|                   1|        0|\n",
      "+-----------------+--------------------+------------------+---------------------+--------------------+---------+\n",
      "only showing top 20 rows\n",
      "\n"
     ]
    }
   ],
   "source": [
    "import pyspark.sql.functions as f\n",
    "SpeedDf.select(\n",
    "    \"*\",\n",
    "    *[\n",
    "        f.when(\n",
    "            f.col(c).between(bounds[c]['lower'], bounds[c]['upper']),\n",
    "            0\n",
    "        ).otherwise(1).alias(c+\"_out\") \n",
    "        for c in SpeedDf.columns\n",
    "    ]\n",
    ").show(20)"
   ]
  }
 ],
 "metadata": {
  "kernelspec": {
   "display_name": "Python 3",
   "language": "python",
   "name": "python3"
  },
  "language_info": {
   "codemirror_mode": {
    "name": "ipython",
    "version": 3
   },
   "file_extension": ".py",
   "mimetype": "text/x-python",
   "name": "python",
   "nbconvert_exporter": "python",
   "pygments_lexer": "ipython3",
   "version": "3.7.3"
  }
 },
 "nbformat": 4,
 "nbformat_minor": 2
}
