{
 "cells": [
  {
   "cell_type": "code",
   "execution_count": null,
   "metadata": {},
   "outputs": [],
   "source": [
    "pip install findspark"
   ]
  },
  {
   "cell_type": "code",
   "execution_count": null,
   "metadata": {},
   "outputs": [],
   "source": [
    "pip install pyspark"
   ]
  },
  {
   "cell_type": "code",
   "execution_count": 3,
   "metadata": {},
   "outputs": [
    {
     "name": "stdout",
     "output_type": "stream",
     "text": [
      "+-----+\n",
      "|hello|\n",
      "+-----+\n",
      "|spark|\n",
      "+-----+\n",
      "\n"
     ]
    }
   ],
   "source": [
    "import pyspark\n",
    "from pyspark.sql import SparkSession\n",
    "#SparkSession.builder\n",
    " #    .master(\"local\")\n",
    "  #   .appName(\"Word Count\")\n",
    "   #  .config(\"spark.some.config.option\", \"some-value\")\n",
    "   #  .getOrCreate()\n",
    "\n",
    "spark = SparkSession.builder.getOrCreate()\n",
    "df = spark.sql(\"select 'spark' as hello \")\n",
    "df.show()"
   ]
  },
  {
   "cell_type": "code",
   "execution_count": 4,
   "metadata": {},
   "outputs": [
    {
     "data": {
      "text/html": [
       "\n",
       "            <div>\n",
       "                <p><b>SparkSession - in-memory</b></p>\n",
       "                \n",
       "        <div>\n",
       "            <p><b>SparkContext</b></p>\n",
       "\n",
       "            <p><a href=\"http://LAPTOP-HQI88729:4040\">Spark UI</a></p>\n",
       "\n",
       "            <dl>\n",
       "              <dt>Version</dt>\n",
       "                <dd><code>v2.4.4</code></dd>\n",
       "              <dt>Master</dt>\n",
       "                <dd><code>local[*]</code></dd>\n",
       "              <dt>AppName</dt>\n",
       "                <dd><code>pyspark-shell</code></dd>\n",
       "            </dl>\n",
       "        </div>\n",
       "        \n",
       "            </div>\n",
       "        "
      ],
      "text/plain": [
       "<pyspark.sql.session.SparkSession at 0x1c95e7c7b70>"
      ]
     },
     "execution_count": 4,
     "metadata": {},
     "output_type": "execute_result"
    }
   ],
   "source": [
    "spark"
   ]
  },
  {
   "cell_type": "code",
   "execution_count": 5,
   "metadata": {},
   "outputs": [],
   "source": [
    "from pyspark import SparkContext\n",
    "from pyspark.sql import SQLContext\n",
    "sql_sc = SQLContext(spark)\n",
    "repository='C:/Users/adam_/Desktop/Adam_Work_Spark/trips_spark/Shared_Micromobility_Vehicle_Trips.csv'\n",
    "Austin_Trips_Df = spark.read.csv(repository,header='True',inferSchema='true') \n"
   ]
  },
  {
   "cell_type": "code",
   "execution_count": 6,
   "metadata": {},
   "outputs": [
    {
     "data": {
      "text/plain": [
       "2115445"
      ]
     },
     "execution_count": 6,
     "metadata": {},
     "output_type": "execute_result"
    }
   ],
   "source": [
    "Austin_Trips_Df.count()"
   ]
  },
  {
   "cell_type": "code",
   "execution_count": 7,
   "metadata": {
    "scrolled": true
   },
   "outputs": [
    {
     "name": "stdout",
     "output_type": "stream",
     "text": [
      "root\n",
      " |-- ID: string (nullable = true)\n",
      " |-- Device ID: string (nullable = true)\n",
      " |-- Vehicle Type: string (nullable = true)\n",
      " |-- Trip Duration: integer (nullable = true)\n",
      " |-- Trip Distance: integer (nullable = true)\n",
      " |-- Start Time: string (nullable = true)\n",
      " |-- End Time: string (nullable = true)\n",
      " |-- Modified Date: string (nullable = true)\n",
      " |-- Month: integer (nullable = true)\n",
      " |-- Hour: integer (nullable = true)\n",
      " |-- Day of Week: integer (nullable = true)\n",
      " |-- Council District (Start): integer (nullable = true)\n",
      " |-- Council District (End): integer (nullable = true)\n",
      " |-- Year: integer (nullable = true)\n",
      " |-- Census Tract Start: string (nullable = true)\n",
      " |-- Census Tract End: string (nullable = true)\n",
      "\n"
     ]
    }
   ],
   "source": [
    "Austin_Trips_Df.printSchema()"
   ]
  },
  {
   "cell_type": "markdown",
   "metadata": {},
   "source": [
    "# Data cleansing and transformations:\n",
    "\n",
    "We start our cleansing by running some basic Pyspark functions as shown below:\n"
   ]
  },
  {
   "cell_type": "code",
   "execution_count": 8,
   "metadata": {},
   "outputs": [],
   "source": [
    " Austin_Trips_Df = Austin_Trips_Df.dropDuplicates()"
   ]
  },
  {
   "cell_type": "code",
   "execution_count": 9,
   "metadata": {},
   "outputs": [
    {
     "data": {
      "text/plain": [
       "2115437"
      ]
     },
     "execution_count": 9,
     "metadata": {},
     "output_type": "execute_result"
    }
   ],
   "source": [
    "Austin_Trips_Df.dropna().count()"
   ]
  },
  {
   "cell_type": "markdown",
   "metadata": {},
   "source": [
    "We find out 8 duplicates rows.\n",
    "We decide to cast and transform Start Time and End Time columns in order to transform them from String type to timestamp one"
   ]
  },
  {
   "cell_type": "code",
   "execution_count": 10,
   "metadata": {},
   "outputs": [],
   "source": [
    "from pyspark.sql.functions import unix_timestamp\n",
    "pattern ='MM/dd/yyyy hh:mm:ss aa'\n",
    "Austin_Trips_Df=Austin_Trips_Df.withColumn('Start Time',unix_timestamp(Austin_Trips_Df['Start Time'],pattern).cast(\"timestamp\"))\\\n",
    ".withColumn('End Time',unix_timestamp(Austin_Trips_Df['End Time'],pattern).cast(\"timestamp\"))"
   ]
  },
  {
   "cell_type": "markdown",
   "metadata": {},
   "source": [
    "We continue our transformation operations and we decide to convert Trip distance from Meter to Kilometer and Trip duration from Second to Hour as well."
   ]
  },
  {
   "cell_type": "code",
   "execution_count": 11,
   "metadata": {},
   "outputs": [],
   "source": [
    "Austin_Trips_Df=Austin_Trips_Df.withColumn('Trip Distance',(Austin_Trips_Df['Trip Distance'])/1000).withColumnRenamed('Trip Distance', 'Trip_Distance(km)').withColumn('Trip Duration',(Austin_Trips_Df['Trip Duration'])/3600).withColumnRenamed('Trip Duration', 'Trip_Duration(H)')"
   ]
  },
  {
   "cell_type": "markdown",
   "metadata": {},
   "source": [
    "We decide to remove non used-columns such as Year and modified date"
   ]
  },
  {
   "cell_type": "code",
   "execution_count": 12,
   "metadata": {},
   "outputs": [],
   "source": [
    "Austin_Trips_Df=Austin_Trips_Df.drop(Austin_Trips_Df['Modified Date']).drop(Austin_Trips_Df['Year'])"
   ]
  },
  {
   "cell_type": "markdown",
   "metadata": {},
   "source": [
    "Checking the new schema as result of our previous operations "
   ]
  },
  {
   "cell_type": "code",
   "execution_count": 13,
   "metadata": {},
   "outputs": [
    {
     "name": "stdout",
     "output_type": "stream",
     "text": [
      "root\n",
      " |-- ID: string (nullable = true)\n",
      " |-- Device ID: string (nullable = true)\n",
      " |-- Vehicle Type: string (nullable = true)\n",
      " |-- Trip_Duration(H): double (nullable = true)\n",
      " |-- Trip_Distance(km): double (nullable = true)\n",
      " |-- Start Time: timestamp (nullable = true)\n",
      " |-- End Time: timestamp (nullable = true)\n",
      " |-- Month: integer (nullable = true)\n",
      " |-- Hour: integer (nullable = true)\n",
      " |-- Day of Week: integer (nullable = true)\n",
      " |-- Council District (Start): integer (nullable = true)\n",
      " |-- Council District (End): integer (nullable = true)\n",
      " |-- Census Tract Start: string (nullable = true)\n",
      " |-- Census Tract End: string (nullable = true)\n",
      "\n"
     ]
    }
   ],
   "source": [
    "Austin_Trips_Df.printSchema()"
   ]
  },
  {
   "cell_type": "code",
   "execution_count": 14,
   "metadata": {
    "scrolled": false
   },
   "outputs": [
    {
     "name": "stdout",
     "output_type": "stream",
     "text": [
      "+-------+-------------------+------------------+\n",
      "|summary|   Trip_Duration(H)| Trip_Distance(km)|\n",
      "+-------+-------------------+------------------+\n",
      "|  count|            2115445|           2115445|\n",
      "|   mean|0.16955681625694208|45.609249623601634|\n",
      "| stddev| 0.2429257070840978|1936.5365902717479|\n",
      "|    min|             -0.315|               0.0|\n",
      "|    max|            23.5475|       1113117.831|\n",
      "+-------+-------------------+------------------+\n",
      "\n"
     ]
    }
   ],
   "source": [
    "Austin_Trips_Df.select(\"Trip_Duration(H)\",\"Trip_Distance(km)\").describe().show(truncate= True)"
   ]
  },
  {
   "cell_type": "code",
   "execution_count": 15,
   "metadata": {},
   "outputs": [],
   "source": [
    "Austin_Trips_Df=Austin_Trips_Df.filter(Austin_Trips_Df['Trip_Duration(H)']>0)"
   ]
  },
  {
   "cell_type": "code",
   "execution_count": 16,
   "metadata": {},
   "outputs": [
    {
     "data": {
      "text/plain": [
       "2115406"
      ]
     },
     "execution_count": 16,
     "metadata": {},
     "output_type": "execute_result"
    }
   ],
   "source": [
    "Austin_Trips_Df.count()"
   ]
  },
  {
   "cell_type": "code",
   "execution_count": 17,
   "metadata": {},
   "outputs": [
    {
     "name": "stdout",
     "output_type": "stream",
     "text": [
      "+------------------+------+---+------+------+------+\n",
      "|Vehicle Type_Month|    10| 11|     7|     8|     9|\n",
      "+------------------+------+---+------+------+------+\n",
      "|           scooter|503906| 88|471763|471527|557695|\n",
      "|           bicycle| 26521|  0| 31633| 25036| 27237|\n",
      "+------------------+------+---+------+------+------+\n",
      "\n"
     ]
    }
   ],
   "source": [
    "Austin_Trips_Df.crosstab('Vehicle Type', 'Month').show()"
   ]
  },
  {
   "cell_type": "code",
   "execution_count": 18,
   "metadata": {
    "scrolled": false
   },
   "outputs": [
    {
     "name": "stdout",
     "output_type": "stream",
     "text": [
      "+-----------------+------+---+-----+------+------+\n",
      "|Day of Week_Month|    10| 11|    7|     8|     9|\n",
      "+-----------------+------+---+-----+------+------+\n",
      "|                0| 78276|  0|67526| 60053| 92386|\n",
      "|                5| 82200| 88|83536| 94825| 91179|\n",
      "|                1| 58880|  0|57008| 45884| 76615|\n",
      "|                6|101599|  0|96908|118696|126083|\n",
      "|                2| 67055|  0|62289| 49164| 61974|\n",
      "|                3| 67917|  0|65831| 55822| 65591|\n",
      "|                4| 74500|  0|70298| 72119| 71104|\n",
      "+-----------------+------+---+-----+------+------+\n",
      "\n"
     ]
    }
   ],
   "source": [
    "Austin_Trips_Df.crosstab('Day of Week', 'Month').show()"
   ]
  },
  {
   "cell_type": "code",
   "execution_count": 19,
   "metadata": {},
   "outputs": [],
   "source": [
    "Austin_Trips_Df=Austin_Trips_Df.withColumn('Speed',Austin_Trips_Df['Trip_Distance(km)']/Austin_Trips_Df['Trip_Duration(H)'])"
   ]
  },
  {
   "cell_type": "code",
   "execution_count": 20,
   "metadata": {},
   "outputs": [
    {
     "name": "stdout",
     "output_type": "stream",
     "text": [
      "+-------+------------------+\n",
      "|summary|             Speed|\n",
      "+-------+------------------+\n",
      "|  count|           2115406|\n",
      "|   mean|431.76059691297746|\n",
      "| stddev|17208.996380778306|\n",
      "|    min|               0.0|\n",
      "|    max| 5242221.507692307|\n",
      "+-------+------------------+\n",
      "\n"
     ]
    }
   ],
   "source": [
    "Austin_Trips_Df.describe(['Speed']).show()"
   ]
  },
  {
   "cell_type": "code",
   "execution_count": 24,
   "metadata": {},
   "outputs": [],
   "source": [
    "Austin_Trips_Df=Austin_Trips_Df.withColumn('Revenue($)',(Austin_Trips_Df['Trip_Duration(H)']*60)*0.15+1)"
   ]
  },
  {
   "cell_type": "code",
   "execution_count": 25,
   "metadata": {},
   "outputs": [
    {
     "name": "stdout",
     "output_type": "stream",
     "text": [
      "+-------+------------------+\n",
      "|summary|        Revenue($)|\n",
      "+-------+------------------+\n",
      "|  count|           2115406|\n",
      "|   mean| 2.526046323968071|\n",
      "| stddev|2.1863338249025457|\n",
      "|    min|            1.0025|\n",
      "|    max|212.92749999999998|\n",
      "+-------+------------------+\n",
      "\n"
     ]
    }
   ],
   "source": [
    "Austin_Trips_Df.describe(['Revenue($)']).show()"
   ]
  },
  {
   "cell_type": "code",
   "execution_count": 26,
   "metadata": {},
   "outputs": [
    {
     "data": {
      "text/plain": [
       "[Row(ID='000f0d96-dd73-452d-bb01-e817adaeab0d', Device ID='4a22632e-89db-42e9-88d4-f8bfff68b677', Vehicle Type='scooter', Trip_Duration(H)=0.5366666666666666, Trip_Distance(km)=4.675, Start Time=datetime.datetime(2019, 7, 7, 20, 15), End Time=datetime.datetime(2019, 7, 7, 20, 45), Month=7, Hour=20, Day of Week=0, Council District (Start)=5, Council District (End)=5, Census Tract Start='48453001303', Census Tract End='48453001303', Speed=8.711180124223603, Revenue($)=5.829999999999999),\n",
       " Row(ID='008286fd-ad90-4611-b44b-bd169fa37964', Device ID='23716c9d-2821-4a7f-8bd7-3593212f69cd', Vehicle Type='scooter', Trip_Duration(H)=0.10361111111111111, Trip_Distance(km)=2.139, Start Time=datetime.datetime(2019, 7, 10, 9, 45), End Time=datetime.datetime(2019, 7, 10, 9, 45), Month=7, Hour=9, Day of Week=3, Council District (Start)=9, Council District (End)=9, Census Tract Start='48453000603', Census Tract End='48453000601', Speed=20.64450402144772, Revenue($)=1.9325)]"
      ]
     },
     "execution_count": 26,
     "metadata": {},
     "output_type": "execute_result"
    }
   ],
   "source": [
    "Austin_Trips_Df.head(2)"
   ]
  },
  {
   "cell_type": "code",
   "execution_count": null,
   "metadata": {},
   "outputs": [],
   "source": [
    "PriceDf.crosstab('Trip_Duration(H)','Revenue($)').show(3)"
   ]
  }
 ],
 "metadata": {
  "kernelspec": {
   "display_name": "Python 3",
   "language": "python",
   "name": "python3"
  },
  "language_info": {
   "codemirror_mode": {
    "name": "ipython",
    "version": 3
   },
   "file_extension": ".py",
   "mimetype": "text/x-python",
   "name": "python",
   "nbconvert_exporter": "python",
   "pygments_lexer": "ipython3",
   "version": "3.7.3"
  }
 },
 "nbformat": 4,
 "nbformat_minor": 2
}
