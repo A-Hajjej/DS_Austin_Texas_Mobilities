{
 "cells": [
  {
   "cell_type": "code",
   "execution_count": null,
   "metadata": {},
   "outputs": [],
   "source": [
    "pip install findspark"
   ]
  },
  {
   "cell_type": "code",
   "execution_count": null,
   "metadata": {},
   "outputs": [],
   "source": [
    "pip install pyspark"
   ]
  },
  {
   "cell_type": "code",
   "execution_count": 18,
   "metadata": {},
   "outputs": [
    {
     "name": "stdout",
     "output_type": "stream",
     "text": [
      "+-----------+\n",
      "|hello_spark|\n",
      "+-----------+\n",
      "|      spark|\n",
      "+-----------+\n",
      "\n"
     ]
    }
   ],
   "source": [
    "import pyspark\n",
    "from pyspark.sql import SparkSession\n",
    "#SparkSession.builder\n",
    " #    .master(\"local\")\n",
    "  #   .appName(\"Word Count\")\n",
    "   #  .config(\"spark.some.config.option\", \"some-value\")\n",
    "   #  .getOrCreate()\n",
    "\n",
    "spark = SparkSession.builder.getOrCreate()\n",
    "df = spark.sql(\"select 'spark' as hello_spark \")\n",
    "df.show()"
   ]
  },
  {
   "cell_type": "code",
   "execution_count": 19,
   "metadata": {},
   "outputs": [
    {
     "data": {
      "text/html": [
       "\n",
       "            <div>\n",
       "                <p><b>SparkSession - in-memory</b></p>\n",
       "                \n",
       "        <div>\n",
       "            <p><b>SparkContext</b></p>\n",
       "\n",
       "            <p><a href=\"http://LAPTOP-HQI88729:4040\">Spark UI</a></p>\n",
       "\n",
       "            <dl>\n",
       "              <dt>Version</dt>\n",
       "                <dd><code>v2.4.4</code></dd>\n",
       "              <dt>Master</dt>\n",
       "                <dd><code>local[*]</code></dd>\n",
       "              <dt>AppName</dt>\n",
       "                <dd><code>pyspark-shell</code></dd>\n",
       "            </dl>\n",
       "        </div>\n",
       "        \n",
       "            </div>\n",
       "        "
      ],
      "text/plain": [
       "<pyspark.sql.session.SparkSession at 0x296721a7f60>"
      ]
     },
     "execution_count": 19,
     "metadata": {},
     "output_type": "execute_result"
    }
   ],
   "source": [
    "spark"
   ]
  },
  {
   "cell_type": "code",
   "execution_count": 95,
   "metadata": {},
   "outputs": [],
   "source": [
    "from pyspark import SparkContext\n",
    "from pyspark.sql import SQLContext\n",
    "sql_sc = SQLContext(spark)\n",
    "repository='C:/Users/adam_/Desktop/Adam_Work_Spark/trips_spark/Shared_Micromobility_Vehicle_2019_Trips.csv'\n",
    "Austin_Trips_Df = spark.read.csv(repository,header='True',inferSchema='true') \n"
   ]
  },
  {
   "cell_type": "code",
   "execution_count": 96,
   "metadata": {},
   "outputs": [
    {
     "data": {
      "text/plain": [
       "2198485"
      ]
     },
     "execution_count": 96,
     "metadata": {},
     "output_type": "execute_result"
    }
   ],
   "source": [
    "Austin_Trips_Df.count()"
   ]
  },
  {
   "cell_type": "code",
   "execution_count": 97,
   "metadata": {
    "scrolled": true
   },
   "outputs": [
    {
     "name": "stdout",
     "output_type": "stream",
     "text": [
      "root\n",
      " |-- ID: string (nullable = true)\n",
      " |-- Device ID: string (nullable = true)\n",
      " |-- Vehicle Type: string (nullable = true)\n",
      " |-- Trip Duration: integer (nullable = true)\n",
      " |-- Trip Distance: integer (nullable = true)\n",
      " |-- Start Time: string (nullable = true)\n",
      " |-- End Time: string (nullable = true)\n",
      " |-- Modified Date: string (nullable = true)\n",
      " |-- Month: integer (nullable = true)\n",
      " |-- Hour: integer (nullable = true)\n",
      " |-- Day of Week: integer (nullable = true)\n",
      " |-- Council District (Start): integer (nullable = true)\n",
      " |-- Council District (End): integer (nullable = true)\n",
      " |-- Year: integer (nullable = true)\n",
      " |-- Census Tract Start: string (nullable = true)\n",
      " |-- Census Tract End: string (nullable = true)\n",
      "\n"
     ]
    }
   ],
   "source": [
    "Austin_Trips_Df.printSchema()"
   ]
  },
  {
   "cell_type": "code",
   "execution_count": 98,
   "metadata": {},
   "outputs": [
    {
     "data": {
      "text/plain": [
       "[Row(ID='69348ea0-87f5-43f2-a763-275a672b14fc', Device ID='7e14cf0c-4861-4780-b227-fc71f8372453', Vehicle Type='scooter', Trip Duration=500, Trip Distance=798, Start Time='11/29/2019 09:00:00 PM', End Time='11/29/2019 09:15:00 PM', Modified Date='12/01/2019 01:00:54 PM', Month=11, Hour=21, Day of Week=5, Council District (Start)=9, Council District (End)=9, Year=2019, Census Tract Start='48453001100', Census Tract End='48453001100'),\n",
       " Row(ID='44bf4d97-733f-44b9-ab69-132ad77cebe0', Device ID='37d1e6b6-ea25-4d77-88f2-d6bdc185f142', Vehicle Type='scooter', Trip Duration=500, Trip Distance=1226, Start Time='11/30/2019 10:00:00 PM', End Time='11/30/2019 10:00:00 PM', Modified Date='12/01/2019 12:00:13 PM', Month=11, Hour=22, Day of Week=6, Council District (Start)=3, Council District (End)=3, Year=2019, Census Tract Start='48453002111', Census Tract End='48453000902')]"
      ]
     },
     "execution_count": 98,
     "metadata": {},
     "output_type": "execute_result"
    }
   ],
   "source": [
    "Austin_Trips_Df.head(2)"
   ]
  },
  {
   "cell_type": "code",
   "execution_count": 99,
   "metadata": {},
   "outputs": [
    {
     "data": {
      "text/plain": [
       "DataFrame[summary: string, ID: string, Device ID: string, Vehicle Type: string, Trip Duration: string, Trip Distance: string, Start Time: string, End Time: string, Modified Date: string, Month: string, Hour: string, Day of Week: string, Council District (Start): string, Council District (End): string, Year: string, Census Tract Start: string, Census Tract End: string]"
      ]
     },
     "execution_count": 99,
     "metadata": {},
     "output_type": "execute_result"
    }
   ],
   "source": [
    "Austin_Trips_Df.describe()"
   ]
  },
  {
   "cell_type": "markdown",
   "metadata": {},
   "source": [
    "# Data cleansing and transformations:\n",
    "\n",
    "We start our cleansing by running some basic Pyspark functions as shown below:\n"
   ]
  },
  {
   "cell_type": "code",
   "execution_count": 100,
   "metadata": {},
   "outputs": [
    {
     "data": {
      "text/plain": [
       "2198485"
      ]
     },
     "execution_count": 100,
     "metadata": {},
     "output_type": "execute_result"
    }
   ],
   "source": [
    "Austin_Trips_Df.dropDuplicates().count()"
   ]
  },
  {
   "cell_type": "code",
   "execution_count": 101,
   "metadata": {},
   "outputs": [
    {
     "data": {
      "text/plain": [
       "2198461"
      ]
     },
     "execution_count": 101,
     "metadata": {},
     "output_type": "execute_result"
    }
   ],
   "source": [
    "Austin_Trips_Df.dropna().count()"
   ]
  },
  {
   "cell_type": "markdown",
   "metadata": {},
   "source": [
    "We decide to remove non used-columns such as Year and modified date"
   ]
  },
  {
   "cell_type": "code",
   "execution_count": 102,
   "metadata": {},
   "outputs": [],
   "source": [
    "Austin_Trips_Df=Austin_Trips_Df.drop(Austin_Trips_Df['Device ID']).drop(Austin_Trips_Df['Modified Date']).drop(Austin_Trips_Df['Year'])"
   ]
  },
  {
   "cell_type": "markdown",
   "metadata": {},
   "source": [
    "We find out 8 duplicates rows.\n",
    "We decide to cast and transform Start Time and End Time columns in order to transform them from String type to timestamp one"
   ]
  },
  {
   "cell_type": "code",
   "execution_count": 103,
   "metadata": {},
   "outputs": [],
   "source": [
    "from pyspark.sql.types import  (StringType,TimestampType)                               \n",
    "from datetime import datetime\n",
    "from pyspark.sql.functions import col,udf\n",
    "\n",
    "To_TS=  udf(lambda x: datetime.strptime(x, '%m/%d/%Y %I:%M:%S %p'), TimestampType())\n",
    "Austin_Trips_Df= Austin_Trips_Df.withColumn('Start Time', To_TS(col('Start Time'))).withColumn('End Time',To_TS(col('End Time')))"
   ]
  },
  {
   "cell_type": "code",
   "execution_count": 104,
   "metadata": {},
   "outputs": [
    {
     "name": "stdout",
     "output_type": "stream",
     "text": [
      "+-------------------+-------------------+\n",
      "|         Start Time|           End Time|\n",
      "+-------------------+-------------------+\n",
      "|2019-11-29 21:00:00|2019-11-29 21:15:00|\n",
      "|2019-11-30 22:00:00|2019-11-30 22:00:00|\n",
      "+-------------------+-------------------+\n",
      "only showing top 2 rows\n",
      "\n"
     ]
    }
   ],
   "source": [
    "Austin_Trips_Df.select(\"Start Time\",\"End Time\").show(2)"
   ]
  },
  {
   "cell_type": "code",
   "execution_count": 107,
   "metadata": {},
   "outputs": [],
   "source": [
    "import pyspark.sql.types\n",
    "day = {\"1\": \"MON\", \"2\": \"TUE\", \"3\": \"WED\", \"4\": \"THU\", \"5\": \"FRI\", \"6\": \"SAT\", \"0\": \"SUN\"}\n",
    "day = {k:str(v) for k,v in zip(d2.keys(),d2.values())}\n",
    "Austin_Trips_Df= Austin_Trips_Df.withColumn('Day of Week', Austin_Trips_Df['Day of Week'].cast(\"string\"))\n",
    "Austin_Trips_Df = Austin_Trips_Df.na.replace(day,1,\"Day of Week\")"
   ]
  },
  {
   "cell_type": "code",
   "execution_count": 112,
   "metadata": {},
   "outputs": [],
   "source": [
    "user_func =  udf (lambda x: True if x in('SAT','SUN') else False)\n",
    "Austin_Trips_Df= Austin_Trips_Df.withColumn('Is_Weekend',user_func(Austin_Trips_Df['Day of Week']))"
   ]
  },
  {
   "cell_type": "markdown",
   "metadata": {},
   "source": [
    "We continue our transformation operations and we decide to convert Trip distance from Meter to Kilometer and Trip duration from Second to Hour as well."
   ]
  },
  {
   "cell_type": "code",
   "execution_count": 38,
   "metadata": {},
   "outputs": [],
   "source": [
    "Austin_Trips_Df=Austin_Trips_Df.withColumn('Trip Distance',(Austin_Trips_Df['Trip Distance'])/1000).withColumnRenamed('Trip Distance', 'Trip_Distance(km)').withColumn('Trip Duration',(Austin_Trips_Df['Trip Duration'])/3600).withColumnRenamed('Trip Duration', 'Trip_Duration(H)')"
   ]
  },
  {
   "cell_type": "code",
   "execution_count": 54,
   "metadata": {},
   "outputs": [],
   "source": [
    "Austin_Trips_Df=Austin_Trips_Df.withColumn('Speed',Austin_Trips_Df['Trip_Distance(km)']/Austin_Trips_Df['Trip_Duration(H)'])"
   ]
  },
  {
   "cell_type": "markdown",
   "metadata": {},
   "source": [
    "Checking the new schema as result of our previous operations "
   ]
  },
  {
   "cell_type": "code",
   "execution_count": 77,
   "metadata": {},
   "outputs": [
    {
     "name": "stdout",
     "output_type": "stream",
     "text": [
      "root\n",
      " |-- ID: string (nullable = true)\n",
      " |-- Vehicle Type: string (nullable = true)\n",
      " |-- Trip_Duration(H): double (nullable = true)\n",
      " |-- Trip_Distance(km): double (nullable = true)\n",
      " |-- Start Time: timestamp (nullable = true)\n",
      " |-- End Time: timestamp (nullable = true)\n",
      " |-- Month: integer (nullable = true)\n",
      " |-- Hour: integer (nullable = true)\n",
      " |-- Day of Week: string (nullable = true)\n",
      " |-- Council District (Start): integer (nullable = true)\n",
      " |-- Council District (End): integer (nullable = true)\n",
      " |-- Census Tract Start: string (nullable = true)\n",
      " |-- Census Tract End: string (nullable = true)\n",
      " |-- Speed: double (nullable = true)\n",
      "\n"
     ]
    }
   ],
   "source": [
    "Austin_Trips_Df.printSchema()"
   ]
  },
  {
   "cell_type": "code",
   "execution_count": 57,
   "metadata": {
    "scrolled": false
   },
   "outputs": [
    {
     "name": "stdout",
     "output_type": "stream",
     "text": [
      "+-------+-------------------+------------------+-------------------+\n",
      "|summary|   Trip_Duration(H)| Trip_Distance(km)|              Speed|\n",
      "+-------+-------------------+------------------+-------------------+\n",
      "|  count|            2198485|           2198485|            2198485|\n",
      "|   mean|0.32679564765939273|2.7320238618867076|  9.574117014114679|\n",
      "| stddev|0.27763931174384077|1.9427202841884252|  5.205455038152195|\n",
      "|    min| 0.1388888888888889|               0.5|0.12589467954823788|\n",
      "|    max|  4.166666666666667|            19.988| 138.41501976284584|\n",
      "+-------+-------------------+------------------+-------------------+\n",
      "\n"
     ]
    }
   ],
   "source": [
    "Austin_Trips_Df.select(\"Trip_Duration(H)\",\"Trip_Distance(km)\",\"Speed\").describe().show(truncate= True)"
   ]
  },
  {
   "cell_type": "code",
   "execution_count": 55,
   "metadata": {},
   "outputs": [
    {
     "name": "stdout",
     "output_type": "stream",
     "text": [
      "root\n",
      " |-- ID: string (nullable = true)\n",
      " |-- Vehicle Type: string (nullable = true)\n",
      " |-- Trip_Duration(H): double (nullable = true)\n",
      " |-- Trip_Distance(km): double (nullable = true)\n",
      " |-- Start Time: timestamp (nullable = true)\n",
      " |-- End Time: timestamp (nullable = true)\n",
      " |-- Month: integer (nullable = true)\n",
      " |-- Hour: integer (nullable = true)\n",
      " |-- Day of Week: integer (nullable = true)\n",
      " |-- Council District (Start): integer (nullable = true)\n",
      " |-- Council District (End): integer (nullable = true)\n",
      " |-- Census Tract Start: string (nullable = true)\n",
      " |-- Census Tract End: string (nullable = true)\n",
      " |-- Speed: double (nullable = true)\n",
      "\n"
     ]
    }
   ],
   "source": [
    "Austin_Trips_Df.printSchema()"
   ]
  },
  {
   "cell_type": "code",
   "execution_count": 49,
   "metadata": {},
   "outputs": [
    {
     "name": "stdout",
     "output_type": "stream",
     "text": [
      "+-----------+------+\n",
      "|Day of Week| count|\n",
      "+-----------+------+\n",
      "|          2|205285|\n",
      "|          3|212124|\n",
      "|          1|224827|\n",
      "|          4|253354|\n",
      "|          5|369949|\n",
      "|          0|387447|\n",
      "|          6|545499|\n",
      "+-----------+------+\n",
      "\n"
     ]
    }
   ],
   "source": [
    "Austin_Trips_Df.groupBy(\"Day of Week\").count().sort(\"count\",ascending=True).show()"
   ]
  },
  {
   "cell_type": "code",
   "execution_count": 50,
   "metadata": {},
   "outputs": [
    {
     "name": "stdout",
     "output_type": "stream",
     "text": [
      "+-----+------+\n",
      "|Month| count|\n",
      "+-----+------+\n",
      "|   12|   413|\n",
      "|   11|117461|\n",
      "|    1|139085|\n",
      "|    2|147246|\n",
      "|    8|184916|\n",
      "|   10|192227|\n",
      "|    6|195874|\n",
      "|    7|199113|\n",
      "|    9|206771|\n",
      "|    4|218794|\n",
      "|    5|232842|\n",
      "|    3|363743|\n",
      "+-----+------+\n",
      "\n"
     ]
    }
   ],
   "source": [
    "Austin_Trips_Df.groupBy(\"Month\").count().sort(\"count\",ascending=True).show()"
   ]
  },
  {
   "cell_type": "code",
   "execution_count": 52,
   "metadata": {},
   "outputs": [
    {
     "name": "stdout",
     "output_type": "stream",
     "text": [
      "+------------------+------+------+------+---+------+------+------+------+------+------+------+------+\n",
      "|Vehicle Type_Month|     1|    10|    11| 12|     2|     3|     4|     5|     6|     7|     8|     9|\n",
      "+------------------+------+------+------+---+------+------+------+------+------+------+------+------+\n",
      "|           bicycle|  6228| 15949| 10147|  0|  8236| 32245| 22176| 23251| 19403| 16667| 13345| 15821|\n",
      "|           scooter|132857|176278|107314|413|139010|331498|196618|209591|176471|182446|171571|190950|\n",
      "+------------------+------+------+------+---+------+------+------+------+------+------+------+------+\n",
      "\n"
     ]
    }
   ],
   "source": [
    "Austin_Trips_Df.crosstab('Vehicle Type', 'Month').sort(\"Vehicle Type_Month\").show()"
   ]
  },
  {
   "cell_type": "code",
   "execution_count": 53,
   "metadata": {
    "scrolled": false
   },
   "outputs": [
    {
     "name": "stdout",
     "output_type": "stream",
     "text": [
      "+-----------------+-----+-----+-----+---+-----+-----+-----+-----+-----+-----+-----+-----+\n",
      "|Day of Week_Month|    1|   10|   11| 12|    2|    3|    4|    5|    6|    7|    8|    9|\n",
      "+-----------------+-----+-----+-----+---+-----+-----+-----+-----+-----+-----+-----+-----+\n",
      "|                0|25266|36754|21884|413|30258|61927|36897|45605|34702|29481|25278|38982|\n",
      "|                1|15006|18607|12900|  0|16292|30053|28599|26062|19190|19578|15121|23419|\n",
      "|                2|16939|17562|10263|  0|13304|33726|25210|18612|16961|20521|15455|16732|\n",
      "|                3|11658|17357| 9846|  0|16402|36730|16096|25713|20626|22697|17688|17311|\n",
      "|                4|17452|21969| 8472|  0|14178|45861|24930|27600|20729|28746|23063|20354|\n",
      "|                5|19630|31641|17789|  0|21506|67774|40988|38575|31360|33579|34989|32118|\n",
      "|                6|33134|48337|36307|  0|35306|87672|46074|50675|52306|44511|53322|57855|\n",
      "+-----------------+-----+-----+-----+---+-----+-----+-----+-----+-----+-----+-----+-----+\n",
      "\n"
     ]
    }
   ],
   "source": [
    "Austin_Trips_Df.crosstab('Day of Week', 'Month').sort(\"Day of Week_Month\").show()"
   ]
  },
  {
   "cell_type": "code",
   "execution_count": 20,
   "metadata": {},
   "outputs": [
    {
     "name": "stdout",
     "output_type": "stream",
     "text": [
      "+-------+------------------+\n",
      "|summary|             Speed|\n",
      "+-------+------------------+\n",
      "|  count|           2115406|\n",
      "|   mean|431.76059691297746|\n",
      "| stddev|17208.996380778306|\n",
      "|    min|               0.0|\n",
      "|    max| 5242221.507692307|\n",
      "+-------+------------------+\n",
      "\n"
     ]
    }
   ],
   "source": [
    "Austin_Trips_Df.describe(['Speed']).show()"
   ]
  },
  {
   "cell_type": "code",
   "execution_count": 24,
   "metadata": {},
   "outputs": [],
   "source": [
    "Austin_Trips_Df=Austin_Trips_Df.withColumn('Cost($)',(Austin_Trips_Df['Trip_Duration(H)']*60)*0.15+1)"
   ]
  },
  {
   "cell_type": "code",
   "execution_count": 25,
   "metadata": {},
   "outputs": [
    {
     "name": "stdout",
     "output_type": "stream",
     "text": [
      "+-------+------------------+\n",
      "|summary|        Revenue($)|\n",
      "+-------+------------------+\n",
      "|  count|           2115406|\n",
      "|   mean| 2.526046323968071|\n",
      "| stddev|2.1863338249025457|\n",
      "|    min|            1.0025|\n",
      "|    max|212.92749999999998|\n",
      "+-------+------------------+\n",
      "\n"
     ]
    }
   ],
   "source": [
    "Austin_Trips_Df.describe(['Cost($)']).show()"
   ]
  },
  {
   "cell_type": "code",
   "execution_count": 26,
   "metadata": {},
   "outputs": [
    {
     "data": {
      "text/plain": [
       "[Row(ID='000f0d96-dd73-452d-bb01-e817adaeab0d', Device ID='4a22632e-89db-42e9-88d4-f8bfff68b677', Vehicle Type='scooter', Trip_Duration(H)=0.5366666666666666, Trip_Distance(km)=4.675, Start Time=datetime.datetime(2019, 7, 7, 20, 15), End Time=datetime.datetime(2019, 7, 7, 20, 45), Month=7, Hour=20, Day of Week=0, Council District (Start)=5, Council District (End)=5, Census Tract Start='48453001303', Census Tract End='48453001303', Speed=8.711180124223603, Revenue($)=5.829999999999999),\n",
       " Row(ID='008286fd-ad90-4611-b44b-bd169fa37964', Device ID='23716c9d-2821-4a7f-8bd7-3593212f69cd', Vehicle Type='scooter', Trip_Duration(H)=0.10361111111111111, Trip_Distance(km)=2.139, Start Time=datetime.datetime(2019, 7, 10, 9, 45), End Time=datetime.datetime(2019, 7, 10, 9, 45), Month=7, Hour=9, Day of Week=3, Council District (Start)=9, Council District (End)=9, Census Tract Start='48453000603', Census Tract End='48453000601', Speed=20.64450402144772, Revenue($)=1.9325)]"
      ]
     },
     "execution_count": 26,
     "metadata": {},
     "output_type": "execute_result"
    }
   ],
   "source": [
    "Austin_Trips_Df.head(2)"
   ]
  },
  {
   "cell_type": "code",
   "execution_count": null,
   "metadata": {},
   "outputs": [],
   "source": [
    "PriceDf.crosstab('Trip_Duration(H)','Cost($)').show(3)"
   ]
  }
 ],
 "metadata": {
  "kernelspec": {
   "display_name": "Python 3",
   "language": "python",
   "name": "python3"
  },
  "language_info": {
   "codemirror_mode": {
    "name": "ipython",
    "version": 3
   },
   "file_extension": ".py",
   "mimetype": "text/x-python",
   "name": "python",
   "nbconvert_exporter": "python",
   "pygments_lexer": "ipython3",
   "version": "3.7.3"
  }
 },
 "nbformat": 4,
 "nbformat_minor": 2
}
