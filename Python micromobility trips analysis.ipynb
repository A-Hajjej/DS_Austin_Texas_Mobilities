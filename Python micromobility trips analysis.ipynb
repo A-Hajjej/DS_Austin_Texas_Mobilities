{
 "cells": [
  {
   "cell_type": "code",
   "execution_count": 233,
   "metadata": {},
   "outputs": [],
   "source": [
    "import pandas as pd\n",
    "import numpy as np # allows to work with numeric data \n",
    "import matplotlib.pyplot as plt #Python 2D plotting library \n",
    "import seaborn as sns\n",
    "import datetime\n",
    "\n",
    "repository='C:/Users/adam_/Desktop/Adam_Work_Spark/trips_spark/Shared_Micromobility_Vehicle_Trips.csv'\n",
    "Austin_df = pd.read_csv(repository,sep=\",\") # use sep=\",\" for coma separation.\n"
   ]
  },
  {
   "cell_type": "code",
   "execution_count": 234,
   "metadata": {},
   "outputs": [
    {
     "name": "stdout",
     "output_type": "stream",
     "text": [
      "<class 'pandas.core.frame.DataFrame'>\n",
      "RangeIndex: 2115445 entries, 0 to 2115444\n",
      "Data columns (total 16 columns):\n",
      "ID                          object\n",
      "Device ID                   object\n",
      "Vehicle Type                object\n",
      "Trip Duration               int64\n",
      "Trip Distance               int64\n",
      "Start Time                  object\n",
      "End Time                    object\n",
      "Modified Date               object\n",
      "Month                       int64\n",
      "Hour                        int64\n",
      "Day of Week                 int64\n",
      "Council District (Start)    float64\n",
      "Council District (End)      float64\n",
      "Year                        int64\n",
      "Census Tract Start          object\n",
      "Census Tract End            object\n",
      "dtypes: float64(2), int64(6), object(8)\n",
      "memory usage: 258.2+ MB\n"
     ]
    }
   ],
   "source": [
    "Austin_df.info()"
   ]
  },
  {
   "cell_type": "code",
   "execution_count": 236,
   "metadata": {},
   "outputs": [
    {
     "data": {
      "text/html": [
       "<div>\n",
       "<style scoped>\n",
       "    .dataframe tbody tr th:only-of-type {\n",
       "        vertical-align: middle;\n",
       "    }\n",
       "\n",
       "    .dataframe tbody tr th {\n",
       "        vertical-align: top;\n",
       "    }\n",
       "\n",
       "    .dataframe thead th {\n",
       "        text-align: right;\n",
       "    }\n",
       "</style>\n",
       "<table border=\"1\" class=\"dataframe\">\n",
       "  <thead>\n",
       "    <tr style=\"text-align: right;\">\n",
       "      <th></th>\n",
       "      <th>Trip Duration</th>\n",
       "      <th>Trip Distance</th>\n",
       "      <th>Month</th>\n",
       "      <th>Hour</th>\n",
       "      <th>Day of Week</th>\n",
       "    </tr>\n",
       "  </thead>\n",
       "  <tbody>\n",
       "    <tr>\n",
       "      <th>count</th>\n",
       "      <td>2.115445e+06</td>\n",
       "      <td>2.115445e+06</td>\n",
       "      <td>2.115445e+06</td>\n",
       "      <td>2.115445e+06</td>\n",
       "      <td>2.115445e+06</td>\n",
       "    </tr>\n",
       "    <tr>\n",
       "      <th>mean</th>\n",
       "      <td>6.104045e+02</td>\n",
       "      <td>4.560925e+04</td>\n",
       "      <td>8.540141e+00</td>\n",
       "      <td>1.465292e+01</td>\n",
       "      <td>3.335430e+00</td>\n",
       "    </tr>\n",
       "    <tr>\n",
       "      <th>std</th>\n",
       "      <td>8.745325e+02</td>\n",
       "      <td>1.936537e+06</td>\n",
       "      <td>1.107280e+00</td>\n",
       "      <td>5.678401e+00</td>\n",
       "      <td>2.099561e+00</td>\n",
       "    </tr>\n",
       "    <tr>\n",
       "      <th>min</th>\n",
       "      <td>-1.134000e+03</td>\n",
       "      <td>0.000000e+00</td>\n",
       "      <td>7.000000e+00</td>\n",
       "      <td>0.000000e+00</td>\n",
       "      <td>0.000000e+00</td>\n",
       "    </tr>\n",
       "    <tr>\n",
       "      <th>25%</th>\n",
       "      <td>2.360000e+02</td>\n",
       "      <td>5.980000e+02</td>\n",
       "      <td>8.000000e+00</td>\n",
       "      <td>1.100000e+01</td>\n",
       "      <td>1.000000e+00</td>\n",
       "    </tr>\n",
       "    <tr>\n",
       "      <th>50%</th>\n",
       "      <td>3.980000e+02</td>\n",
       "      <td>1.142000e+03</td>\n",
       "      <td>9.000000e+00</td>\n",
       "      <td>1.500000e+01</td>\n",
       "      <td>4.000000e+00</td>\n",
       "    </tr>\n",
       "    <tr>\n",
       "      <th>75%</th>\n",
       "      <td>6.920000e+02</td>\n",
       "      <td>2.037000e+03</td>\n",
       "      <td>1.000000e+01</td>\n",
       "      <td>1.900000e+01</td>\n",
       "      <td>5.000000e+00</td>\n",
       "    </tr>\n",
       "    <tr>\n",
       "      <th>max</th>\n",
       "      <td>8.477100e+04</td>\n",
       "      <td>1.113118e+09</td>\n",
       "      <td>1.100000e+01</td>\n",
       "      <td>2.300000e+01</td>\n",
       "      <td>6.000000e+00</td>\n",
       "    </tr>\n",
       "  </tbody>\n",
       "</table>\n",
       "</div>"
      ],
      "text/plain": [
       "       Trip Duration  Trip Distance         Month          Hour   Day of Week\n",
       "count   2.115445e+06   2.115445e+06  2.115445e+06  2.115445e+06  2.115445e+06\n",
       "mean    6.104045e+02   4.560925e+04  8.540141e+00  1.465292e+01  3.335430e+00\n",
       "std     8.745325e+02   1.936537e+06  1.107280e+00  5.678401e+00  2.099561e+00\n",
       "min    -1.134000e+03   0.000000e+00  7.000000e+00  0.000000e+00  0.000000e+00\n",
       "25%     2.360000e+02   5.980000e+02  8.000000e+00  1.100000e+01  1.000000e+00\n",
       "50%     3.980000e+02   1.142000e+03  9.000000e+00  1.500000e+01  4.000000e+00\n",
       "75%     6.920000e+02   2.037000e+03  1.000000e+01  1.900000e+01  5.000000e+00\n",
       "max     8.477100e+04   1.113118e+09  1.100000e+01  2.300000e+01  6.000000e+00"
      ]
     },
     "execution_count": 236,
     "metadata": {},
     "output_type": "execute_result"
    }
   ],
   "source": [
    "Austin_df.describe()"
   ]
  },
  {
   "cell_type": "code",
   "execution_count": 235,
   "metadata": {},
   "outputs": [],
   "source": [
    "Austin_df=Austin_df.drop(['Modified Date', 'Year','Council District (Start)','Council District (End)'],axis='columns') "
   ]
  },
  {
   "cell_type": "code",
   "execution_count": 242,
   "metadata": {},
   "outputs": [
    {
     "name": "stdout",
     "output_type": "stream",
     "text": [
      "8 removed Nan records\n"
     ]
    }
   ],
   "source": [
    "print(Austin_df.shape[0] - Austin_df.dropna().shape[0] , 'removed Nan records')"
   ]
  },
  {
   "cell_type": "code",
   "execution_count": 201,
   "metadata": {},
   "outputs": [
    {
     "name": "stdout",
     "output_type": "stream",
     "text": [
      "0 removed duplicates records\n"
     ]
    }
   ],
   "source": [
    "print(Austin_df.shape - Austin_df.drop_duplicates().shape , 'removed duplicates records')"
   ]
  },
  {
   "cell_type": "code",
   "execution_count": 238,
   "metadata": {},
   "outputs": [
    {
     "ename": "SyntaxError",
     "evalue": "invalid syntax (<ipython-input-238-4f1d0cfc7605>, line 1)",
     "output_type": "error",
     "traceback": [
      "\u001b[1;36m  File \u001b[1;32m\"<ipython-input-238-4f1d0cfc7605>\"\u001b[1;36m, line \u001b[1;32m1\u001b[0m\n\u001b[1;33m    Austin_df['Trip Duration']=Austin_df[Austin_df['Trip Duration']>1.astype('int64')]\u001b[0m\n\u001b[1;37m                                                                           ^\u001b[0m\n\u001b[1;31mSyntaxError\u001b[0m\u001b[1;31m:\u001b[0m invalid syntax\n"
     ]
    }
   ],
   "source": [
    "Austin_df['Trip Duration']=Austin_df[Austin_df['Trip Duration']>1.astype('int64')]\n",
    "#Austin_df['Trip Duration']=Austin_df['Trip Duration'].astype('int')"
   ]
  },
  {
   "cell_type": "code",
   "execution_count": 179,
   "metadata": {},
   "outputs": [],
   "source": [
    "Austin_df['Start Time'] = pd.to_datetime(Austin_df['Start Time'])\n",
    "Austin_df['End Time'] = pd.to_datetime(Austin_df['End Time'])\n",
    "Austin_df['Day of Week'] = Austin_df['Start Time'].dt.day_name()\n",
    "d2 = {\"Monday\": \"MON\", \"Tuesday\": \"TUE\", \"Wednesday\": \"WED\", \"Thursday\": \"THU\", \"Friday\": \"FRI\", \"Saturday\": \"SAT\", \"Sunday\": \"SUN\"}\n",
    "Austin_df[\"Day of Week\"] = Austin_df[\"Day of Week\"].replace(d2)\n",
    "Austin_df['Is_Weekend'] =  Austin_df['Day of Week'].map(lambda x: True if x in('Saturday','Sunday') else False)"
   ]
  },
  {
   "cell_type": "code",
   "execution_count": 118,
   "metadata": {},
   "outputs": [],
   "source": [
    "#Add month and year\n",
    "#tock['meal_year'] = stock.meal_date_d.str[:-6]\n",
    "#stock['meal_month'] = stock.meal_date_d.str[5:-3]\n",
    "\n",
    "#Get the season\n",
    "Y = 2019 # dummy leap year to allow input X-02-29 (leap day)\n",
    "seasons = [('winter', (datetime.date(Y,  1,  1),  datetime.date(Y,  3, 20))),\n",
    "           ('spring', (datetime.date(Y,  3, 21),  datetime.date(Y,  6, 20))),\n",
    "           ('summer', (datetime.date(Y,  6, 21),  datetime.date(Y,  9, 22))),\n",
    "           ('autumn', (datetime.date(Y,  9, 23),  datetime.date(Y, 12, 20))),\n",
    "           ('winter', (datetime.date(Y-1, 12, 21),  datetime.date(Y-1, 12, 31)))]\n",
    "\n",
    "def get_season(now):\n",
    "    if isinstance(now, datetime.datetime):\n",
    "        now = now.date()\n",
    "    now = now.replace(year=Y)\n",
    "    return next(season for season, (start, end) in seasons\n",
    "                if start <= now <= end)\n",
    "\n",
    "Austin_df['season'] = Austin_df['Start Time'].apply(lambda x: get_season(x))"
   ]
  },
  {
   "cell_type": "code",
   "execution_count": 119,
   "metadata": {},
   "outputs": [],
   "source": [
    "Austin_df['Trip Duration'] = Austin_df['Trip Duration']/1000\n",
    "Austin_df['Trip Distance'] = Austin_df['Trip Distance']/3600"
   ]
  },
  {
   "cell_type": "code",
   "execution_count": 139,
   "metadata": {},
   "outputs": [],
   "source": [
    "Austin_df['Real_duration'] = pd.to_timedelta(Austin_df['End Time']-Austin_df['Start Time'])"
   ]
  },
  {
   "cell_type": "code",
   "execution_count": 154,
   "metadata": {},
   "outputs": [],
   "source": [
    "#Austin_df = Austin_df.set_index(\"Trip Duration\")\n",
    "Austin_df = Austin_df.drop(0, axis=0)"
   ]
  },
  {
   "cell_type": "code",
   "execution_count": 156,
   "metadata": {
    "scrolled": true
   },
   "outputs": [
    {
     "data": {
      "text/plain": [
       "(520603, 16)"
      ]
     },
     "execution_count": 156,
     "metadata": {},
     "output_type": "execute_result"
    }
   ],
   "source": [
    "Austin_df.shape"
   ]
  },
  {
   "cell_type": "code",
   "execution_count": 155,
   "metadata": {},
   "outputs": [
    {
     "name": "stdout",
     "output_type": "stream",
     "text": [
      "<class 'pandas.core.frame.DataFrame'>\n",
      "Int64Index: 520603 entries, 1 to 520603\n",
      "Data columns (total 16 columns):\n",
      "ID                          520603 non-null object\n",
      "Device ID                   520603 non-null object\n",
      "Vehicle Type                520603 non-null object\n",
      "Trip Duration               520603 non-null int64\n",
      "Trip Distance               520603 non-null int64\n",
      "Start Time                  520603 non-null object\n",
      "End Time                    520603 non-null object\n",
      "Modified Date               520603 non-null object\n",
      "Month                       520603 non-null int64\n",
      "Hour                        520603 non-null int64\n",
      "Day of Week                 520603 non-null int64\n",
      "Council District (Start)    520599 non-null float64\n",
      "Council District (End)      520599 non-null float64\n",
      "Year                        520603 non-null int64\n",
      "Census Tract Start          520599 non-null object\n",
      "Census Tract End            520599 non-null object\n",
      "dtypes: float64(2), int64(6), object(8)\n",
      "memory usage: 67.5+ MB\n"
     ]
    }
   ],
   "source": [
    "Austin_df.info()"
   ]
  },
  {
   "cell_type": "code",
   "execution_count": 157,
   "metadata": {},
   "outputs": [
    {
     "data": {
      "text/html": [
       "<div>\n",
       "<style scoped>\n",
       "    .dataframe tbody tr th:only-of-type {\n",
       "        vertical-align: middle;\n",
       "    }\n",
       "\n",
       "    .dataframe tbody tr th {\n",
       "        vertical-align: top;\n",
       "    }\n",
       "\n",
       "    .dataframe thead th {\n",
       "        text-align: right;\n",
       "    }\n",
       "</style>\n",
       "<table border=\"1\" class=\"dataframe\">\n",
       "  <thead>\n",
       "    <tr style=\"text-align: right;\">\n",
       "      <th></th>\n",
       "      <th>Trip Duration</th>\n",
       "      <th>Trip Distance</th>\n",
       "      <th>Month</th>\n",
       "      <th>Hour</th>\n",
       "      <th>Day of Week</th>\n",
       "      <th>Council District (Start)</th>\n",
       "      <th>Council District (End)</th>\n",
       "      <th>Year</th>\n",
       "    </tr>\n",
       "  </thead>\n",
       "  <tbody>\n",
       "    <tr>\n",
       "      <th>count</th>\n",
       "      <td>520603.000000</td>\n",
       "      <td>5.206030e+05</td>\n",
       "      <td>520603.0</td>\n",
       "      <td>520603.000000</td>\n",
       "      <td>520603.000000</td>\n",
       "      <td>520599.000000</td>\n",
       "      <td>520599.000000</td>\n",
       "      <td>520603.0</td>\n",
       "    </tr>\n",
       "    <tr>\n",
       "      <th>mean</th>\n",
       "      <td>587.927186</td>\n",
       "      <td>1.020748e+05</td>\n",
       "      <td>10.0</td>\n",
       "      <td>14.455247</td>\n",
       "      <td>3.219426</td>\n",
       "      <td>7.840113</td>\n",
       "      <td>7.648490</td>\n",
       "      <td>2019.0</td>\n",
       "    </tr>\n",
       "    <tr>\n",
       "      <th>std</th>\n",
       "      <td>712.466487</td>\n",
       "      <td>3.290106e+06</td>\n",
       "      <td>0.0</td>\n",
       "      <td>5.452899</td>\n",
       "      <td>2.097260</td>\n",
       "      <td>2.467971</td>\n",
       "      <td>2.575347</td>\n",
       "      <td>0.0</td>\n",
       "    </tr>\n",
       "    <tr>\n",
       "      <th>min</th>\n",
       "      <td>0.000000</td>\n",
       "      <td>0.000000e+00</td>\n",
       "      <td>10.0</td>\n",
       "      <td>0.000000</td>\n",
       "      <td>0.000000</td>\n",
       "      <td>0.000000</td>\n",
       "      <td>0.000000</td>\n",
       "      <td>2019.0</td>\n",
       "    </tr>\n",
       "    <tr>\n",
       "      <th>25%</th>\n",
       "      <td>237.000000</td>\n",
       "      <td>6.330000e+02</td>\n",
       "      <td>10.0</td>\n",
       "      <td>11.000000</td>\n",
       "      <td>1.000000</td>\n",
       "      <td>9.000000</td>\n",
       "      <td>9.000000</td>\n",
       "      <td>2019.0</td>\n",
       "    </tr>\n",
       "    <tr>\n",
       "      <th>50%</th>\n",
       "      <td>391.000000</td>\n",
       "      <td>1.158000e+03</td>\n",
       "      <td>10.0</td>\n",
       "      <td>15.000000</td>\n",
       "      <td>3.000000</td>\n",
       "      <td>9.000000</td>\n",
       "      <td>9.000000</td>\n",
       "      <td>2019.0</td>\n",
       "    </tr>\n",
       "    <tr>\n",
       "      <th>75%</th>\n",
       "      <td>677.000000</td>\n",
       "      <td>2.009000e+03</td>\n",
       "      <td>10.0</td>\n",
       "      <td>18.000000</td>\n",
       "      <td>5.000000</td>\n",
       "      <td>9.000000</td>\n",
       "      <td>9.000000</td>\n",
       "      <td>2019.0</td>\n",
       "    </tr>\n",
       "    <tr>\n",
       "      <th>max</th>\n",
       "      <td>34779.000000</td>\n",
       "      <td>1.113118e+09</td>\n",
       "      <td>10.0</td>\n",
       "      <td>23.000000</td>\n",
       "      <td>6.000000</td>\n",
       "      <td>10.000000</td>\n",
       "      <td>10.000000</td>\n",
       "      <td>2019.0</td>\n",
       "    </tr>\n",
       "  </tbody>\n",
       "</table>\n",
       "</div>"
      ],
      "text/plain": [
       "       Trip Duration  Trip Distance     Month           Hour    Day of Week  \\\n",
       "count  520603.000000   5.206030e+05  520603.0  520603.000000  520603.000000   \n",
       "mean      587.927186   1.020748e+05      10.0      14.455247       3.219426   \n",
       "std       712.466487   3.290106e+06       0.0       5.452899       2.097260   \n",
       "min         0.000000   0.000000e+00      10.0       0.000000       0.000000   \n",
       "25%       237.000000   6.330000e+02      10.0      11.000000       1.000000   \n",
       "50%       391.000000   1.158000e+03      10.0      15.000000       3.000000   \n",
       "75%       677.000000   2.009000e+03      10.0      18.000000       5.000000   \n",
       "max     34779.000000   1.113118e+09      10.0      23.000000       6.000000   \n",
       "\n",
       "       Council District (Start)  Council District (End)      Year  \n",
       "count             520599.000000           520599.000000  520603.0  \n",
       "mean                   7.840113                7.648490    2019.0  \n",
       "std                    2.467971                2.575347       0.0  \n",
       "min                    0.000000                0.000000    2019.0  \n",
       "25%                    9.000000                9.000000    2019.0  \n",
       "50%                    9.000000                9.000000    2019.0  \n",
       "75%                    9.000000                9.000000    2019.0  \n",
       "max                   10.000000               10.000000    2019.0  "
      ]
     },
     "execution_count": 157,
     "metadata": {},
     "output_type": "execute_result"
    }
   ],
   "source": [
    "Austin_df.describe()"
   ]
  }
 ],
 "metadata": {
  "kernelspec": {
   "display_name": "Python 3",
   "language": "python",
   "name": "python3"
  },
  "language_info": {
   "codemirror_mode": {
    "name": "ipython",
    "version": 3
   },
   "file_extension": ".py",
   "mimetype": "text/x-python",
   "name": "python",
   "nbconvert_exporter": "python",
   "pygments_lexer": "ipython3",
   "version": "3.7.3"
  }
 },
 "nbformat": 4,
 "nbformat_minor": 2
}
